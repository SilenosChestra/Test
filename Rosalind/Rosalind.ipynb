{
 "cells": [
  {
   "cell_type": "code",
   "execution_count": null,
   "id": "df1a736d",
   "metadata": {},
   "outputs": [],
   "source": [
    "revc, gc, prot, mrna"
   ]
  },
  {
   "cell_type": "markdown",
   "id": "2b84ce6c",
   "metadata": {},
   "source": [
    "### 1. Complementing a Strand of DNA (https://rosalind.info/problems/revc/)"
   ]
  },
  {
   "cell_type": "code",
   "execution_count": null,
   "id": "161049bb",
   "metadata": {},
   "outputs": [],
   "source": [
    "def dna_compliment(s):\n",
    "    \n",
    "    compl_dict={\"A\":\"T\", \"G\":\"C\", \"T\":\"A\", \"C\":\"G\"} \n",
    "    compliment_string = \"\".join([compl_dict[i] for i in s.replace('\\n', '')])[::-1]\n",
    "    \n",
    "    return compliment_string\n",
    "\n",
    "with open(\"3_dataset.txt\") as dataset:\n",
    "    print(dna_compliment(dataset.read()))"
   ]
  },
  {
   "cell_type": "markdown",
   "id": "55bf5dda",
   "metadata": {},
   "source": [
    "### 2. Computing GC Content (https://rosalind.info/problems/gc/)"
   ]
  },
  {
   "cell_type": "code",
   "execution_count": 70,
   "id": "2e1558e9",
   "metadata": {},
   "outputs": [
    {
     "name": "stdout",
     "output_type": "stream",
     "text": [
      "Rosalind_9129 50.847457627118644\n"
     ]
    }
   ],
   "source": [
    "import regex as re\n",
    "\n",
    "def find_max_gc(s):\n",
    "    \n",
    "    new_dict = {}\n",
    "    max_gc = 0\n",
    "    max_id = \"0\"\n",
    "\n",
    "    for block in s.split('>')[1:]:\n",
    "        new = re.sub(r\"(Rosalind_\\d{4})\", r\"\\g<1>\\n\", block)\n",
    "\n",
    "        new_id, dna = new.split('\\n\\n')[0], new.split('\\n\\n')[1].replace(\"\\n\", \"\")\n",
    "        gc = (dna.count('G') + dna.count('C'))/ len(dna)\n",
    "        \n",
    "        if gc > max_gc:\n",
    "            max_id = new_id\n",
    "            max_gc = gc\n",
    "\n",
    "    print(max_id, max_gc*100)\n",
    "\n",
    "\n",
    "with open(\"5_dataset.txt\") as data:\n",
    "    s = data.read()\n",
    "\n",
    "find_max_gc(s)"
   ]
  },
  {
   "cell_type": "markdown",
   "id": "1779d740",
   "metadata": {},
   "source": [
    "### 3. Translating RNA into Protein (https://rosalind.info/problems/prot/)"
   ]
  },
  {
   "cell_type": "code",
   "execution_count": 28,
   "id": "53498426",
   "metadata": {},
   "outputs": [
    {
     "name": "stdout",
     "output_type": "stream",
     "text": [
      "MGGLSMHERSPAGDEPSGGRTVPRSIVCGPDSAVARRNSVSFFSFKARVRGITLSPRAFQAVARDLTRCAIYSGGTECPGKSIYTVRRDYAFIAKKFDCAGNSSRWLADTYQNRREHSLGGLTHKAICAPLRSMACFLFFQTNHHSRGRSLRRHFPQGPHSEWPARHMPQNTLLNMNAPGPSPCFGARIPSSGYADCLRSLIDEPVLTLIDIQTIENLYFDVVNIGMPGCGYHSNRLHKAASTAIKRALNVASESHLTGRCMFGEKKSAPSPTCPQGFPARRDGHMSEKGPPQIYPPGAPTSRGKIRPCDVRMAARALTLNHDRRMVPLFEKTSTAINILQRVYESVAKNAPPATPNIHEPVGGTEEVKCPPVDVDSDQRLPVSLARERLIILCVSQTHVPCCPAACGRGGAFQGGDAHEAGFSVGSHHMSGGVPIVHTDIIIYFEFCHHKGNSKTRVQSMCRMEDRGGPRIHRLAPARAPWHRHNQITIVRMALTPKTLLLGRASISSTVDCHGSFDDGQPERPSRKKSVIDRTFSRSISLRDRQHCEEDDGLDRSRAVSYLERSAIFAGKQGGRKQAVEQSANHESGVWPPHHPRDWRLSVHQTAGDTATRGIFTHLRWIHCGLVKLSAKMHAEAQIKLRYTPRSDQMCIHRRVQYSVSGPALAPNRQTASYSELPIRVSGHMFGLDSVWTRFHNESTEVSPSRYTIDYSIHTQPPRYGGGLVTVRCRRSAWAIIYRANCLGYVFRYCLLSTSDSTVNSLLAKGVAIGLLRPYTAELSTHSMPRAYESVSDMFPRHRQLIFFEMDCAPLMTKVGFNLAPWRNRGCCPLRGCILVTRKTCPIILKGSCKPATRPLIRRIVIERSHVSGFNGLFVPLEPNGPGCHGSTLTMCKRVTQMTALCHWVLEARVTDFKMEAGRGPHRHSDLWDAPVHMRRFIPKCRGAFMRAGPEQEPMTTYLSHKSVRLTCSPTTSRSGNIVPHPLQAGPSQCSQICGWFYAARGTSRHRRDFPFRCTLWASSEAIPFNSSLLRRDHAHCIDRNCDVRGTKHAPDPAMFRFFGWKIASQHGVSSLTGPGNGSNVGRRSPHFRTTTGGPVFTHTRAVLYRFQTMFEMVRYNELLPAWLVADRSPIVAFDASGGTYEYHYRTRVGVSCLPLSSWSQWRTGESPSEDRTRAPYMFIYCSPRCFDTFLLNGVECSYIMPACTVGAVVALIHFLGRSGSRFFFGRPLLRAISPPGERQSTRPSTVRAGLSPACRVTQSSYSLLISLSGYLMSHYKVVTHNAQLTIKFTPTCTGLINAALNHCAQMQRSAKIIKPARASQALTPRGWWRPYRLGIALYYNEVRVFGRNLCTSSSTQKNVKYLSTTFVVFASQFTLRVGSRVTWNSHAREILLRSASSICLAWLRFGVFAPTGWATSLPANVQYAKPVYNQGDLMIHNMEIRLATNVEPFTDNLLLTSYWRLGQSKGPSKSRQFLHQVTAPHNMAGRPLCLNRVDENGTGRLSFVRYTDTTCAPDPPTNAGNSLHGARSRVEGQSLRGQSEVRKIFVGSHRRARWRWKLAPFCNLPPSTTRPFRFHSVNCRRVIYTTSASGTTATYLSHRAYNSTYDTRSRYNANKNILFAYKYMGLRSKINPGNMQLPVGQRSCVCMRQMASCNSYHAECLYTIARWGQHVGPPKDNTVPHYHSYMVTINRITPILKNLMDLSKSPVWLLNPSVDNILFSRCNDVGSVVTRVLACESVLTESVTHHRLPQTMAIDVHVTADRLVLDMGKVPTVCQHNDFSVLRTVISQRCLTTRAHASKGESAHPLYILRTDPSVRFYREKARLYRTELGWLLIFSTYVIVWVDEPIGDDISSSRSQDPPRGLIMPICSLKMTRPDVVAFRGQIALFLGIYVFRLDLNFGETTGGSYIGYLWLESGRVSQSRRTNVGVTYDLDTHLTGAEPHSATLRSRHQYIISTAYLLKKPACLGKFGMHSVLLYPHKPGRRRNAASDTDGWRHARKTTSTVCKMASSTSRWTLDPLPRVHSHSPANTYQDGLCRGFTMLALISSRSRSRVAIPVQYWPAVSYSVPRFASEPRMRYSTPLRRTKPSTQSGKPITLIERAYHLLTEELKCTREFRDPQWPLRPSLTAHSPYVSVCGVAQKNRRRCNRAQIVQKNVRGTCVKSAACESCVETYSLNPACWDQKLNYGARDSFPVGAPTVPPAQCLQPGFRQSKPKVATRTRYIRMKFEAELNSPYNVVVLTTIQYGIDAGLAGRRISFNQEIIFHERLRKTQNPYLTRNPRTLRQCLTLCRSDDRTLLMVIELIDEFQPTSCMGAMYPISMFRVTQRPLTTRSPYLAHDTFPENTGVADAGNYIRARNGSDHLSCILLCTRRISWRVYSACCVGKLNPLSINVMAPEQGHLFYVPSRALPIKGDPPVLFFYPLSLGPAQALRAHSIDRFGITRNFAPLRKLTKRVKFEEHWHIFSPVSHVFIIWMMRLNLSRRRVRPSTQSSTYMLSVQSAASTWPHSNDRLPPGSVTRLCWAPLEPVAIRALHSPGVAPAFQRLKYRECSRSSRTSALVKIRPFAKGLDLTTRILVVIRLENLLGVVTAPTATLRMGSHWHFHTMKPLGSHSTYSNRLKDARFCSGSQSPSYGVLRQLSPDTQESPLSAVPVTPNAYIVTHQKTNRSPLVPRAKAKSRPARELLVFVEGVVNCPDPGWDLSKFCRHQLSAVVPMHLGTGVPNKSPARSTPIGIPRSCYETLLYVSYTSSKEYITRRCYLALRVWTVCLAPTHLSVLDTQRTIMCAPRPYEPVEFPAAPNLTFLCICRTQPEAGDGQFVCLQVLPFSRIEPPPCDEITLRETSFVFSHHRCRQTSEILILPSARMPGGTERRSFDPWRNNPPHYGSTDRGVFHSLSSLPVHYTRLPQNHLSPLRLLVPIKSSLEQRSREPTPGFPVALGWRDCSARHKPLLWKPILPARCRTSRNKVRREARGDGRTSALDTRRRSICSAQPPSGYVAVVPGTSLKRRFNVALRTPYMCVSVSVQFPAPTRGHSRGRSLRTKRLKSSRSNINPTGGAMASLSNCELFKQGAHVEVDPIHQTKLRRSSGRRAFTTLLVTTLMGGSGPFWCRGVPIESCRQGLGSVRLCGHQHHLGQWQLDVVTTSTVQDIAACSPPSSGSYVKPACGLLSLNGTARGECAIRGTTSLP\n"
     ]
    }
   ],
   "source": [
    "def rna_protein(rna):\n",
    "    rna_protein = {\"UUU\":\"F\", \"UUC\":\"F\", \"UUA\":\"L\", \"UUG\":\"L\",\n",
    "        \"UCU\":\"S\", \"UCC\":\"S\", \"UCA\":\"S\", \"UCG\":\"S\",\n",
    "        \"UAU\":\"Y\", \"UAC\":\"Y\", \"UAA\":\"STOP\", \"UAG\":\"STOP\",\n",
    "        \"UGU\":\"C\", \"UGC\":\"C\", \"UGA\":\"STOP\", \"UGG\":\"W\",\n",
    "        \"CUU\":\"L\", \"CUC\":\"L\", \"CUA\":\"L\", \"CUG\":\"L\",\n",
    "        \"CCU\":\"P\", \"CCC\":\"P\", \"CCA\":\"P\", \"CCG\":\"P\",\n",
    "        \"CAU\":\"H\", \"CAC\":\"H\", \"CAA\":\"Q\", \"CAG\":\"Q\",\n",
    "        \"CGU\":\"R\", \"CGC\":\"R\", \"CGA\":\"R\", \"CGG\":\"R\",\n",
    "        \"AUU\":\"I\", \"AUC\":\"I\", \"AUA\":\"I\", \"AUG\":\"M\",\n",
    "        \"ACU\":\"T\", \"ACC\":\"T\", \"ACA\":\"T\", \"ACG\":\"T\",\n",
    "        \"AAU\":\"N\", \"AAC\":\"N\", \"AAA\":\"K\", \"AAG\":\"K\",\n",
    "        \"AGU\":\"S\", \"AGC\":\"S\", \"AGA\":\"R\", \"AGG\":\"R\",\n",
    "        \"GUU\":\"V\", \"GUC\":\"V\", \"GUA\":\"V\", \"GUG\":\"V\",\n",
    "        \"GCU\":\"A\", \"GCC\":\"A\", \"GCA\":\"A\", \"GCG\":\"A\",\n",
    "        \"GAU\":\"D\", \"GAC\":\"D\", \"GAA\":\"E\", \"GAG\":\"E\",\n",
    "        \"GGU\":\"G\", \"GGC\":\"G\", \"GGA\":\"G\", \"GGG\":\"G\",}\n",
    "\n",
    "    codons = [rna[i:(i+3)] for i in range(0, len(rna),3)]\n",
    "    protein = ''.join([rna_protein[codon] for codon in codons if codon not in [\"UAG\",\"UGA\",\"UAA\"]])\n",
    "    print(protein.upper())\n",
    "    \n",
    "with open(\"8_dataset.txt\") as data:\n",
    "    rna = data.read().replace(\"\\n\",\"\")\n",
    "    rna_protein(rna)"
   ]
  },
  {
   "cell_type": "markdown",
   "id": "feb57af0",
   "metadata": {},
   "source": [
    "### 4. Inferring mRNA from Protein (https://rosalind.info/problems/mrna/)"
   ]
  },
  {
   "cell_type": "code",
   "execution_count": 58,
   "id": "0a834d3b",
   "metadata": {},
   "outputs": [
    {
     "name": "stdout",
     "output_type": "stream",
     "text": [
      "who \n",
      "\n",
      "Counter({'L': 6, 'S': 6, 'R': 6, 'P': 4, 'T': 4, 'V': 4, 'A': 4, 'G': 4, 'STOP': 3, 'I': 3, 'F': 2, 'Y': 2, 'C': 2, 'H': 2, 'Q': 2, 'N': 2, 'K': 2, 'D': 2, 'E': 2, 'W': 1, 'M': 1})\n",
      "[1, 4, 6, 4, 2, 4, 6, 2, 2, 2, 1, 6, 2, 4, 6, 2, 4, 2, 6, 1, 1, 3, 2, 4, 2, 4, 1, 2, 2, 2, 2, 4, 2, 4, 4, 2, 2, 2, 2, 1, 1, 2, 2, 3, 2, 2, 2, 2, 2, 6, 2, 2, 2, 2, 2, 2, 1, 2, 6, 3, 3, 1, 2, 2, 2, 2, 4, 4, 1, 2, 4, 2, 3, 2, 1, 4, 4, 2, 2, 2, 1, 6, 2, 2, 2, 4, 6, 4, 2, 4, 2, 4, 6, 2, 2, 6, 2, 2, 2, 2, 2, 4, 2, 2, 6, 4, 1, 4, 6, 4, 1, 4, 3, 2, 2, 2, 6, 4, 2, 6, 4, 2, 2, 2, 4, 2, 1, 2, 6, 6, 1, 2, 6, 3, 4, 4, 4, 2, 4, 4, 2, 3, 2, 2, 2, 2, 2, 1, 6, 2, 2, 4, 4, 4, 6, 2, 4, 2, 2, 2, 3, 4, 6, 4, 2, 2, 2, 6, 4, 2, 4, 6, 2, 4, 2, 3, 1, 6, 6, 4, 4, 4, 2, 2, 2, 2, 2, 1, 2, 2, 1, 6, 2, 2, 4, 6, 2, 2, 1, 2, 4, 2, 3, 3, 2, 2, 1, 4, 4, 2, 6, 2, 6, 2, 2, 2, 6, 2, 2, 2, 3, 2, 6, 6, 2, 2, 1, 2, 6, 4, 2, 2, 2, 3, 2, 1, 3, 2, 2, 6, 2, 2, 2, 3, 3, 6, 6, 6, 4, 1, 2, 4, 4, 2, 4, 2, 2, 2, 4, 4, 4, 6, 2, 2, 4, 6, 2, 1, 4, 1, 2, 1, 2, 1, 2, 2, 4, 6, 3, 2, 2, 6, 6, 1, 2, 4, 2, 4, 2, 2, 4, 4, 1, 2, 2, 6, 6, 2, 6, 1, 2, 6, 1, 2, 4, 2, 4, 2, 4, 6, 1, 4, 2, 2, 6, 2, 6, 2, 4, 2, 6, 4, 2, 4, 2, 4, 4, 4, 3, 4, 2, 4, 2, 4, 2, 1, 6, 1, 6, 2, 2, 2, 2, 1, 2, 1, 2, 6, 2, 2, 4, 1, 2, 6, 2, 2, 2, 6, 2, 6, 2, 3, 2, 1, 4, 2, 2, 2, 4, 2, 4, 4, 1, 2, 4, 2, 2, 2, 3, 4, 2, 6, 1, 4, 4, 3, 2, 2, 1, 2, 4, 4, 6, 6, 1, 2, 2, 4, 2, 6, 2, 2, 2, 2, 4, 4, 4, 2, 4, 2, 2, 4, 3, 1, 2, 2, 6, 6, 2, 2, 4, 6, 3, 6, 6, 2, 4, 1, 4, 2, 6, 2, 2, 4, 2, 6, 3, 4, 2, 2, 2, 2, 6, 2, 2, 2, 2, 4, 6, 4, 4, 1, 3, 2, 6, 4, 2, 2, 2, 2, 2, 2, 2, 3, 6, 6, 2, 1, 4, 2, 2, 3, 2, 6, 2, 1, 4, 2, 6, 4, 2, 1, 4, 2, 3, 2, 6, 6, 4, 4, 1, 2, 2, 6, 6, 1, 2, 4, 2, 2, 6, 2, 4, 4, 2, 4, 6, 2, 3, 1, 6, 2, 3, 1, 2, 2, 6, 6, 1, 2, 6, 4, 2, 6, 2, 3, 3, 2, 1, 3, 4, 4, 2, 2, 2, 1, 4, 2, 4, 4, 1, 2, 4, 1, 4, 4, 2, 2, 2, 2, 6, 6, 4, 4, 1, 4, 1, 1, 2, 6, 2, 4, 3, 2, 1, 6, 2, 4, 4, 1, 4, 1, 4, 3, 1, 1, 4, 1, 2, 2, 2, 6, 4, 2, 4, 6, 2, 6, 1, 4, 2, 2, 4, 2, 4, 2, 1, 2, 6, 4, 4, 4, 6, 2, 4, 2, 2, 4, 2, 4, 2, 2, 4, 4, 1, 4, 2, 2, 3, 2, 2, 2, 2, 4, 6, 2, 1, 4, 4, 4, 2, 2, 2, 4, 2, 3, 2, 4, 4, 2, 2, 2, 1, 2, 2, 2, 2, 3, 2, 4, 4, 1, 2, 2, 2, 1, 4, 2, 2, 2, 3, 2, 4, 6, 2, 1, 2, 4, 2, 6, 6, 2, 6, 1, 2, 2, 2, 2, 2, 2, 2, 2, 4, 4, 3, 3, 4, 4, 6, 6, 4, 4, 6, 1, 6, 2, 4, 2, 2, 4, 2, 4, 6, 2, 3, 4, 3, 4, 6, 1, 2, 4, 2, 6, 2, 2, 2, 2, 6, 6, 3, 4, 2, 4, 4, 2, 2, 2, 1, 4, 2, 2, 2, 2, 2, 4, 1, 2, 4, 3, 2, 2, 6, 2, 6, 2, 6, 2, 1, 3, 2, 2, 2, 2, 2, 1, 2, 4, 2, 2, 6, 2, 4, 1, 4, 1, 4, 1, 4, 1, 6, 4, 6, 2, 1, 2, 2, 3, 1, 2, 4, 4, 2, 1, 4, 1, 6, 2, 4, 1, 2, 2, 4, 2, 2, 2, 6, 4, 2, 2, 4, 2, 2, 4, 1, 4, 6, 1, 2, 6, 6, 2, 6, 3, 2, 2, 6, 2, 2, 4, 2, 1, 4, 2, 3, 2, 6, 2, 2, 2, 4, 2, 6, 1, 2, 2, 1, 2, 6, 4, 2, 4, 2, 2, 6, 6, 2, 1, 6, 1, 4, 2, 6, 2, 4, 6, 4, 3, 1, 2, 1, 2, 2, 6, 2, 4, 2, 1, 2, 2, 2, 4, 4, 2, 2, 2, 2, 6, 2, 6, 4, 4, 2, 2, 6, 4, 4, 6, 4, 6, 2, 2, 2, 2, 1, 6, 4, 6, 6, 1, 2, 4, 2, 2, 6, 4, 2, 1, 2, 2, 2, 6, 1, 2, 2, 2, 2, 2, 2, 2, 2, 2, 2, 6, 2, 2, 6, 2, 4, 4, 1, 2, 2, 4, 2, 6, 4, 2, 6, 2, 4, 1, 2, 2, 6, 3, 1, 2, 3, 2, 4, 2, 4, 2, 2, 2, 4, 2, 4, 3, 4, 2, 2, 2, 2, 6, 6, 4, 2, 2, 6, 2, 1, 2, 2, 4, 4, 4, 4, 3, 2, 4, 2, 2, 4, 2, 3, 1, 2, 2, 6, 4, 2, 4, 1, 2, 2, 0]\n",
      "0\n",
      "RNA combinations mod 1000000: 473088\n"
     ]
    }
   ],
   "source": [
    "from collections import Counter\n",
    "import math\n",
    "\n",
    "def rna_protein(protein):\n",
    "    rna_protein = {\"UUU\":\"F\", \"UUC\":\"F\", \"UUA\":\"L\", \"UUG\":\"L\",\n",
    "        \"UCU\":\"S\", \"UCC\":\"S\", \"UCA\":\"S\", \"UCG\":\"S\",\n",
    "        \"UAU\":\"Y\", \"UAC\":\"Y\", \"UAA\":\"STOP\", \"UAG\":\"STOP\",\n",
    "        \"UGU\":\"C\", \"UGC\":\"C\", \"UGA\":\"STOP\", \"UGG\":\"W\",\n",
    "        \"CUU\":\"L\", \"CUC\":\"L\", \"CUA\":\"L\", \"CUG\":\"L\",\n",
    "        \"CCU\":\"P\", \"CCC\":\"P\", \"CCA\":\"P\", \"CCG\":\"P\",\n",
    "        \"CAU\":\"H\", \"CAC\":\"H\", \"CAA\":\"Q\", \"CAG\":\"Q\",\n",
    "        \"CGU\":\"R\", \"CGC\":\"R\", \"CGA\":\"R\", \"CGG\":\"R\",\n",
    "        \"AUU\":\"I\", \"AUC\":\"I\", \"AUA\":\"I\", \"AUG\":\"M\",\n",
    "        \"ACU\":\"T\", \"ACC\":\"T\", \"ACA\":\"T\", \"ACG\":\"T\",\n",
    "        \"AAU\":\"N\", \"AAC\":\"N\", \"AAA\":\"K\", \"AAG\":\"K\",\n",
    "        \"AGU\":\"S\", \"AGC\":\"S\", \"AGA\":\"R\", \"AGG\":\"R\",\n",
    "        \"GUU\":\"V\", \"GUC\":\"V\", \"GUA\":\"V\", \"GUG\":\"V\",\n",
    "        \"GCU\":\"A\", \"GCC\":\"A\", \"GCA\":\"A\", \"GCG\":\"A\",\n",
    "        \"GAU\":\"D\", \"GAC\":\"D\", \"GAA\":\"E\", \"GAG\":\"E\",\n",
    "        \"GGU\":\"G\", \"GGC\":\"G\", \"GGA\":\"G\", \"GGG\":\"G\"}\n",
    "    \n",
    "    aa_combinations = Counter(rna_protein.values())\n",
    "    list_of_combs = [aa_combinations[aa] for aa in protein]\n",
    "    rna_combinations = math.prod([aa_combinations[aa] for aa in protein])*3\n",
    "    \n",
    "    print(\"RNA combinations mod 1000000:\", rna_ % 1000000)\n",
    "\n",
    "with open(\"rosalind_mrna.txt\") as protein:\n",
    "    rna_protein(protein.read())"
   ]
  }
 ],
 "metadata": {
  "kernelspec": {
   "display_name": "Python 3 (ipykernel)",
   "language": "python",
   "name": "python3"
  },
  "language_info": {
   "codemirror_mode": {
    "name": "ipython",
    "version": 3
   },
   "file_extension": ".py",
   "mimetype": "text/x-python",
   "name": "python",
   "nbconvert_exporter": "python",
   "pygments_lexer": "ipython3",
   "version": "3.8.13"
  }
 },
 "nbformat": 4,
 "nbformat_minor": 5
}
